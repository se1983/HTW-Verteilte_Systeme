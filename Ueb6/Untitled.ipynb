{
 "cells": [
  {
   "cell_type": "markdown",
   "metadata": {},
   "source": [
    "XML\n",
    "Originplace: \tTXL\n",
    "Destinationplace: \tMUC\n",
    "Departure: \t2002-09-24\n",
    "\t\t\t09:00:00\n",
    "Arrival: \t2002-09-24\n",
    "\t\t\t10:00:00\n",
    "\n",
    "Name: \tFerdinand Freibeuter\n",
    "Country: \tde\n",
    "Sex \tmale\n",
    "has no laguage\n",
    "\n",
    "\n",
    "Name: \tKarla Kauftgern\n",
    "Country: \tat\n",
    "Sex \tfemale\n",
    "has  laguage\n",
    "\n",
    "Cabinclass: \tEconomy\n",
    "Price: \t\t\t202.22\n",
    "JSON\n",
    "Originplace: \tTXL\n",
    "Destinationplace: \tMUC\n",
    "Departure: \t2002-09-24\n",
    "\t\t\t09:00:00\n",
    "Arrival: \t2002-09-24\n",
    "\t\t\t20:00:00\n",
    "\n",
    "\n",
    "Name : \t Ferdinand Freibeuter\n",
    "Sex : \t male\n",
    "Country : \t de\n",
    "has no laguage\n",
    "\n",
    "\n",
    "Name : \t Karla Kauftgern\n",
    "Sex : \t female\n",
    "Country : \t at\n",
    "has  laguage\n",
    "\n",
    "\n",
    "Cabinclass: \tEconomy\n",
    "Price: \t\t\t202.22"
   ]
  }
 ],
 "metadata": {
  "kernelspec": {
   "display_name": "Python [conda root]",
   "language": "python",
   "name": "conda-root-py"
  },
  "language_info": {
   "codemirror_mode": {
    "name": "ipython",
    "version": 3
   },
   "file_extension": ".py",
   "mimetype": "text/x-python",
   "name": "python",
   "nbconvert_exporter": "python",
   "pygments_lexer": "ipython3",
   "version": "3.5.2"
  }
 },
 "nbformat": 4,
 "nbformat_minor": 1
}
